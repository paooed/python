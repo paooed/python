{
  "cells": [
    {
      "cell_type": "markdown",
      "metadata": {
        "id": "view-in-github",
        "colab_type": "text"
      },
      "source": [
        "<a href=\"https://colab.research.google.com/github/paooed/python/blob/main/%E6%9C%9F%E6%9C%AB%E4%BD%9C%E6%A5%AD.ipynb\" target=\"_parent\"><img src=\"https://colab.research.google.com/assets/colab-badge.svg\" alt=\"Open In Colab\"/></a>"
      ]
    },
    {
      "cell_type": "markdown",
      "metadata": {
        "id": "PdX-nz7dVYBI"
      },
      "source": [
        "# Python物件\n",
        "## List[串列] Tuple(元組) Dictionary{字典} Sets{集合}"
      ]
    },
    {
      "cell_type": "markdown",
      "metadata": {
        "id": "MSCool_9VYBL"
      },
      "source": [
        "## List[串列]\n",
        "使用中括號[]包裹元素"
      ]
    },
    {
      "cell_type": "code",
      "execution_count": null,
      "metadata": {
        "id": "MyZLcmFlVYBM",
        "outputId": "11306911-f6ef-46ef-a5e2-77f1b868ce92",
        "colab": {
          "base_uri": "https://localhost:8080/"
        }
      },
      "outputs": [
        {
          "output_type": "stream",
          "name": "stdout",
          "text": [
            "3600\n"
          ]
        }
      ],
      "source": [
        "expenses = [1138, 101, 12, 300, 2049]\n",
        "print(sum(expenses)) #用sum全部加起來"
      ]
    },
    {
      "cell_type": "markdown",
      "metadata": {
        "id": "KTq0ENUmVYBN"
      },
      "source": [
        "### 索引"
      ]
    },
    {
      "cell_type": "code",
      "execution_count": null,
      "metadata": {
        "id": "tNN90aHdVYBO",
        "outputId": "aefa03ba-6aa2-45d0-da21-d982059f7654"
      },
      "outputs": [
        {
          "name": "stdout",
          "output_type": "stream",
          "text": [
            "1138\n",
            "101\n",
            "2049\n",
            "300\n"
          ]
        }
      ],
      "source": [
        "expenses = [1138, 101, 12, 300, 2049]\n",
        "print(expenses[0]) #索引從0開始\n",
        "print(expenses[1])\n",
        "print(expenses[-1]) #倒數第一個\n",
        "print(expenses[-2])"
      ]
    },
    {
      "cell_type": "code",
      "execution_count": null,
      "metadata": {
        "id": "RpEV3ljzVYBO",
        "outputId": "6b8e529a-a2a0-454d-d9ef-88438b9500e5",
        "colab": {
          "base_uri": "https://localhost:8080/"
        }
      },
      "outputs": [
        {
          "output_type": "stream",
          "name": "stdout",
          "text": [
            "python\n"
          ]
        }
      ],
      "source": [
        "my_list0 = [] #空串列\n",
        "my_list1 = list() \n",
        "my_list2 = ['python', 'javascript', 'C#']\n",
        "print(my_list2[0]) #顯示my_list2的第0位資料"
      ]
    },
    {
      "cell_type": "markdown",
      "metadata": {
        "id": "OKtuNtRCVYBP"
      },
      "source": [
        "## list的長度"
      ]
    },
    {
      "cell_type": "code",
      "execution_count": null,
      "metadata": {
        "id": "weDx21gbVYBP",
        "outputId": "8edad768-b386-41c9-8e1e-1f5f14120385",
        "colab": {
          "base_uri": "https://localhost:8080/"
        }
      },
      "outputs": [
        {
          "output_type": "stream",
          "name": "stdout",
          "text": [
            "3\n",
            "6\n"
          ]
        }
      ],
      "source": [
        "my_list2 = ['python', 'javascript', 'C#']\n",
        "print(len(my_list2)) #顯示list有多少\n",
        "print(len(my_list2[0])) #顯示0號位有幾個字元數"
      ]
    },
    {
      "cell_type": "markdown",
      "metadata": {
        "id": "yS12bSQSVYBQ"
      },
      "source": [
        "### 附加"
      ]
    },
    {
      "cell_type": "code",
      "execution_count": null,
      "metadata": {
        "id": "1fgxVgLkVYBR",
        "outputId": "ed757714-ef32-4f13-aa05-450c820ef404",
        "colab": {
          "base_uri": "https://localhost:8080/"
        }
      },
      "outputs": [
        {
          "output_type": "stream",
          "name": "stdout",
          "text": [
            "['python', 'javascript', 'C#', 'java']\n"
          ]
        }
      ],
      "source": [
        "my_list2 = ['python', 'javascript', 'C#']\n",
        "my_list2.append('java') #將資料添加到串列尾部\n",
        "print(my_list2)"
      ]
    },
    {
      "cell_type": "code",
      "execution_count": null,
      "metadata": {
        "id": "xhSPwsyGVYBR",
        "outputId": "24eb13dd-73f8-4692-a798-38a97b8c675d"
      },
      "outputs": [
        {
          "name": "stdout",
          "output_type": "stream",
          "text": [
            "['python', 'java', 'javascript', 'C#']\n"
          ]
        }
      ],
      "source": [
        "my_list2 = ['python', 'javascript', 'C#']\n",
        "my_list2.insert(1,'java') #將資料添加到1號位\n",
        "print(my_list2)"
      ]
    },
    {
      "cell_type": "markdown",
      "metadata": {
        "id": "wk_7S7LzVYBS"
      },
      "source": [
        "### 刪除"
      ]
    },
    {
      "cell_type": "code",
      "execution_count": null,
      "metadata": {
        "id": "9t8g-tOaVYBS",
        "outputId": "7c049370-7e70-40f9-a976-888fac1feece",
        "colab": {
          "base_uri": "https://localhost:8080/"
        }
      },
      "outputs": [
        {
          "output_type": "stream",
          "name": "stdout",
          "text": [
            "['javascript', 'C#']\n",
            "['javascript']\n",
            "[]\n"
          ]
        }
      ],
      "source": [
        "my_list2 = ['python', 'javascript', 'C#']\n",
        "my_list2.remove('python') #移除指定元素\n",
        "print(my_list2)\n",
        "del my_list2[-1] #刪除指定位置的元素\n",
        "print(my_list2)\n",
        "my_list2.clear() #清除全部\n",
        "print(my_list2)"
      ]
    },
    {
      "cell_type": "code",
      "execution_count": null,
      "metadata": {
        "id": "zqmlBhp-VYBS",
        "outputId": "5e6e6753-0876-443d-c380-85a001e2ffc3",
        "colab": {
          "base_uri": "https://localhost:8080/"
        }
      },
      "outputs": [
        {
          "output_type": "stream",
          "name": "stdout",
          "text": [
            "[1, 2, 1, 2, 1, 2, 1, 2, 1, 2]\n"
          ]
        }
      ],
      "source": [
        "a=[1,2]\n",
        "print(a*5)"
      ]
    },
    {
      "cell_type": "markdown",
      "metadata": {
        "id": "4-sHIA3wVYBT"
      },
      "source": [
        "### list取值"
      ]
    },
    {
      "cell_type": "code",
      "execution_count": null,
      "metadata": {
        "id": "xcjwYgm0VYBT",
        "outputId": "91087aa0-ff32-4ec9-edfd-b7bb50965ff2",
        "colab": {
          "base_uri": "https://localhost:8080/"
        }
      },
      "outputs": [
        {
          "output_type": "stream",
          "name": "stdout",
          "text": [
            "[1, 2, 3]\n",
            "[1, 3, 5, 7, 9]\n",
            "[1, 2, 3, 4, 5, 6, 7, 8, 9]\n",
            "[1, 2, 3, 4, 5, 6, 7, 8, 9]\n",
            "[1, 2, 3, 4, 5, 6, 7, 8, 9]\n"
          ]
        }
      ],
      "source": [
        "a=[1,2,3,4,5,6,7,8,9]\n",
        "b=a[0:3] #範圍取值，0,1,2不包含3\n",
        "print(b)\n",
        "c=a[0:9:2] #間隔2取值\n",
        "print(c)\n",
        "d = a[0:] #從0位開始取到最後\n",
        "print(d)\n",
        "e = a[:9] #取到9號位\n",
        "print(e)\n",
        "f = a[:] #取全部值\n",
        "print(f)"
      ]
    },
    {
      "cell_type": "code",
      "execution_count": null,
      "metadata": {
        "id": "LFDG18SoVYBU",
        "outputId": "f3cae3c4-3caa-41be-abb3-1ae7cc7a309a"
      },
      "outputs": [
        {
          "name": "stdout",
          "output_type": "stream",
          "text": [
            "[1, 2, 3, 4, 5, 6, 7]\n",
            "1\n",
            "7\n",
            "0\n",
            "4\n",
            "[7, 6, 5, 4, 3, 2, 1]\n",
            "[1, 2, 3, 4, 5, 6, 7]\n"
          ]
        }
      ],
      "source": [
        "a=[1,2,3,4,5,6,7,8,9]\n",
        "del a[7:9] #刪除某範圍值, 7, 8\n",
        "print(a)\n",
        "print(min(a)) #最小值\n",
        "print(max(a)) #最大值\n",
        "print(a.index(1)) #找出1所在的第一個索引值\n",
        "b=[1,0,0,1,1,1]\n",
        "print(b.count(1)) #1出現的次數\n",
        "a.reverse() #串列反轉\n",
        "print(a)\n",
        "a.sort() #串列由小到大排序,a的值會被改變\n",
        "print(a)"
      ]
    },
    {
      "cell_type": "code",
      "execution_count": null,
      "metadata": {
        "id": "AFv6tXPdVYBU",
        "outputId": "8ce1a0ca-5eb4-4977-9393-b187be2ed5d2",
        "colab": {
          "base_uri": "https://localhost:8080/"
        }
      },
      "outputs": [
        {
          "output_type": "stream",
          "name": "stdout",
          "text": [
            "[12, 101, 300, 1138, 2049] [1138, 101, 12, 300, 2049]\n"
          ]
        }
      ],
      "source": [
        "expenses = [1138, 101, 12, 300, 2049]\n",
        "s=sorted(expenses) #expenses的值不會變 #將expenses排序\n",
        "print(s, expenses)"
      ]
    },
    {
      "cell_type": "markdown",
      "source": [
        "## Tuple (元組)\n",
        "tuple(元組)可視為不可改變的串列，tuple跟list很像，但是我們不能新增、刪除或更新tuple的元素。tuple的好處有：\n",
        "1. 佔用較少空間\n",
        "2. 可當作dictionary(字典)的鍵值\n",
        "3. 可當作函式引數"
      ],
      "metadata": {
        "id": "7ydqdJ_VV-oq"
      }
    },
    {
      "cell_type": "code",
      "source": [
        "a_tuple=('python', 'js', 'SQL')\n",
        "print(a_tuple)\n",
        "b_list=['go', 'c#', 'vb']\n",
        "b_tuple=tuple(b_list)\n",
        "print(b_tuple)\n",
        "print(b_tuple[0])"
      ],
      "metadata": {
        "id": "HFY4fJ64WCQ9",
        "colab": {
          "base_uri": "https://localhost:8080/"
        },
        "outputId": "1b965a49-9173-4d45-9cf1-ae0b91ca94bc"
      },
      "execution_count": null,
      "outputs": [
        {
          "output_type": "stream",
          "name": "stdout",
          "text": [
            "('python', 'js', 'SQL')\n",
            "('go', 'c#', 'vb')\n",
            "go\n"
          ]
        }
      ]
    },
    {
      "cell_type": "markdown",
      "source": [
        "### 字典(dictionary - dict)為帶有鍵值(key)的串列(list)"
      ],
      "metadata": {
        "id": "a5YXqhVHWIIZ"
      }
    },
    {
      "cell_type": "code",
      "source": [
        "languages = {}\n",
        "languages = {'name':'python', 'version':'3.7'} #索引值(鍵值)可以自訂\n",
        "print(languages['name'])\n",
        "print(languages['version'])\n",
        "a={0:'python', 1:'java', 2:'SQL'}\n",
        "print(a[0])\n",
        "print(a[1])\n",
        "print(a[2])\n",
        "print(languages)\n",
        "print(languages.keys())\n",
        "print(languages.values())\n",
        "print(languages.items())\n",
        "print('name' in languages)"
      ],
      "metadata": {
        "id": "oE0Ww5luWIoi",
        "colab": {
          "base_uri": "https://localhost:8080/"
        },
        "outputId": "6f112efc-103d-4e8a-b2db-f2af08b04259"
      },
      "execution_count": null,
      "outputs": [
        {
          "output_type": "stream",
          "name": "stdout",
          "text": [
            "python\n",
            "3.7\n",
            "python\n",
            "java\n",
            "SQL\n",
            "{'name': 'python', 'version': '3.7'}\n",
            "dict_keys(['name', 'version'])\n",
            "dict_values(['python', '3.7'])\n",
            "dict_items([('name', 'python'), ('version', '3.7')])\n",
            "True\n"
          ]
        }
      ]
    },
    {
      "cell_type": "markdown",
      "source": [
        "# Chap.4 numpy套件(numeric python)\n",
        "## 為什麼需要numpy?\n",
        "* numpy由c撰寫，速度快python 10~1000倍以上\n",
        "* numpy儲存結果較正確，python數字儲存不正確\n",
        "* numpy節省記憶體儲存空間\n",
        "* numpy的向量(矩陣計算)速度快\n",
        "* numpy的取值方便"
      ],
      "metadata": {
        "id": "vueu3EERWXBk"
      }
    },
    {
      "cell_type": "code",
      "source": [
        "a_list=[1,2,3,4,5]\n",
        "print(a_list*3) #資料複製三次"
      ],
      "metadata": {
        "id": "ZwCtcH8ZWXlQ",
        "colab": {
          "base_uri": "https://localhost:8080/"
        },
        "outputId": "1a5d470d-ebaf-42d2-877e-7acd9b5b02a6"
      },
      "execution_count": null,
      "outputs": [
        {
          "output_type": "stream",
          "name": "stdout",
          "text": [
            "[1, 2, 3, 4, 5, 1, 2, 3, 4, 5, 1, 2, 3, 4, 5]\n"
          ]
        }
      ]
    },
    {
      "cell_type": "code",
      "source": [
        "#numpy套件的ndarray型態,提供element-wise的操作\n",
        "import numpy as np\n",
        "a=np.array([1,2,3,4,5])\n",
        "print(a*3) #數值複製三次"
      ],
      "metadata": {
        "id": "v4cSm2RuWc_m",
        "colab": {
          "base_uri": "https://localhost:8080/"
        },
        "outputId": "895b219a-f994-4d49-87c6-e2cb61a1321a"
      },
      "execution_count": null,
      "outputs": [
        {
          "output_type": "stream",
          "name": "stdout",
          "text": [
            "[ 3  6  9 12 15]\n"
          ]
        }
      ]
    },
    {
      "cell_type": "code",
      "source": [
        "a=np.array([1,2,3,4,5])\n",
        "print(type(a))\n",
        "print(a.shape) #ndaary的形狀\n",
        "print(a.dtype) #資料的型態\n",
        "print(a.ndim) #維度"
      ],
      "metadata": {
        "id": "PggkAIVmWeOW",
        "colab": {
          "base_uri": "https://localhost:8080/"
        },
        "outputId": "06c2fae0-ffea-4165-9e0e-e6371570e54d"
      },
      "execution_count": null,
      "outputs": [
        {
          "output_type": "stream",
          "name": "stdout",
          "text": [
            "<class 'numpy.ndarray'>\n",
            "(5,)\n",
            "int64\n",
            "1\n"
          ]
        }
      ]
    },
    {
      "cell_type": "code",
      "source": [
        "import numpy as np\n",
        "z=np.zeros(6) #用零填充6個串列\n",
        "print(z) \n",
        "print(np.empty((2,3,4))) #產生高2橫4的亂數三次\n",
        "print(np.arange(10)) #產生0到9號位的數"
      ],
      "metadata": {
        "id": "9CRrqOLNWfpI",
        "colab": {
          "base_uri": "https://localhost:8080/"
        },
        "outputId": "f9ae0b82-583b-4ccd-f114-c4f331e557a1"
      },
      "execution_count": 9,
      "outputs": [
        {
          "output_type": "stream",
          "name": "stdout",
          "text": [
            "[0. 0. 0. 0. 0. 0.]\n",
            "[[[1.38640038e-316 6.76869935e-322 0.00000000e+000 0.00000000e+000]\n",
            "  [0.00000000e+000 5.30276956e+180 6.00736842e-067 3.45944511e+097]\n",
            "  [3.06308774e-057 3.25122094e+126 4.25223142e+180 7.48543529e+247]]\n",
            "\n",
            " [[2.32363010e+251 6.11130817e+223 2.59903818e-144 1.13105613e-042]\n",
            "  [2.10653305e-052 5.28328686e-091 9.85296710e+165 2.59027903e-144]\n",
            "  [1.16442250e-028 9.44872517e-143 6.17582057e-322 0.00000000e+000]]]\n",
            "[0 1 2 3 4 5 6 7 8 9]\n"
          ]
        }
      ]
    },
    {
      "cell_type": "markdown",
      "source": [
        "## ndarray的進階操作"
      ],
      "metadata": {
        "id": "HhnlIH1oWhAy"
      }
    },
    {
      "cell_type": "code",
      "source": [
        "my_array=np.arange(10)\n",
        "print(my_array)\n",
        "print(my_array[0])\n",
        "print(my_array[0:5]) #顯示0到5的資料"
      ],
      "metadata": {
        "id": "Kjje7V-lWid4",
        "colab": {
          "base_uri": "https://localhost:8080/"
        },
        "outputId": "043f974f-cee0-4351-e1af-92f0b2b65c33"
      },
      "execution_count": 10,
      "outputs": [
        {
          "output_type": "stream",
          "name": "stdout",
          "text": [
            "[0 1 2 3 4 5 6 7 8 9]\n",
            "0\n",
            "[0 1 2 3 4]\n"
          ]
        }
      ]
    },
    {
      "cell_type": "markdown",
      "source": [
        "### 2維資料取值"
      ],
      "metadata": {
        "id": "Yqx4I2SaWkwk"
      }
    },
    {
      "cell_type": "code",
      "source": [
        "my_2d_array=np.array([np.arange(0,5),np.arange(5,10)])\n",
        "print(my_2d_array)\n",
        "print(my_2d_array[1,:])#取第1串的資料\n",
        "print(my_2d_array[:,1])#取所有串的第1位資料\n",
        "print(my_2d_array[1,1])#取第一串第一位資料"
      ],
      "metadata": {
        "id": "5NBxmP1ZWm7E",
        "colab": {
          "base_uri": "https://localhost:8080/"
        },
        "outputId": "cdfabb8e-1cd3-4cda-ff88-e1ba37b715fd"
      },
      "execution_count": 13,
      "outputs": [
        {
          "output_type": "stream",
          "name": "stdout",
          "text": [
            "[[0 1 2 3 4]\n",
            " [5 6 7 8 9]]\n",
            "[5 6 7 8 9]\n",
            "[1 6]\n",
            "6\n"
          ]
        }
      ]
    },
    {
      "cell_type": "code",
      "source": [
        "my_array=np.arange(0,10)\n",
        "print(my_array)\n",
        "print(my_array.shape)\n",
        "my_2d_array=my_array.reshape(2,5)\n",
        "print(my_2d_array)\n",
        "print((np.arange(0,100).reshape(10,10)))"
      ],
      "metadata": {
        "id": "6_sO9ZWBWoO-",
        "colab": {
          "base_uri": "https://localhost:8080/"
        },
        "outputId": "224a481c-e099-4e1b-8e82-b081c44dbb55"
      },
      "execution_count": 14,
      "outputs": [
        {
          "output_type": "stream",
          "name": "stdout",
          "text": [
            "[0 1 2 3 4 5 6 7 8 9]\n",
            "(10,)\n",
            "[[0 1 2 3 4]\n",
            " [5 6 7 8 9]]\n",
            "[[ 0  1  2  3  4  5  6  7  8  9]\n",
            " [10 11 12 13 14 15 16 17 18 19]\n",
            " [20 21 22 23 24 25 26 27 28 29]\n",
            " [30 31 32 33 34 35 36 37 38 39]\n",
            " [40 41 42 43 44 45 46 47 48 49]\n",
            " [50 51 52 53 54 55 56 57 58 59]\n",
            " [60 61 62 63 64 65 66 67 68 69]\n",
            " [70 71 72 73 74 75 76 77 78 79]\n",
            " [80 81 82 83 84 85 86 87 88 89]\n",
            " [90 91 92 93 94 95 96 97 98 99]]\n"
          ]
        }
      ]
    },
    {
      "cell_type": "markdown",
      "source": [
        "### numpy的空值nan"
      ],
      "metadata": {
        "id": "BOzn6WxKWpqR"
      }
    },
    {
      "cell_type": "code",
      "source": [
        "b=np.array([56, 8, 19, 14, np.nan])\n",
        "print(b)"
      ],
      "metadata": {
        "id": "FCh68nm9Wq9f",
        "colab": {
          "base_uri": "https://localhost:8080/"
        },
        "outputId": "c351cd4b-eaa4-4d5f-c9b6-49407dff87c5"
      },
      "execution_count": 11,
      "outputs": [
        {
          "output_type": "stream",
          "name": "stdout",
          "text": [
            "[56.  8. 19. 14. nan]\n"
          ]
        }
      ]
    },
    {
      "cell_type": "markdown",
      "source": [
        "# 函式(數)"
      ],
      "metadata": {
        "id": "Yqne6DaPXDxx"
      }
    },
    {
      "cell_type": "markdown",
      "source": [
        "## 傳統的寫法"
      ],
      "metadata": {
        "id": "yu3MWtVcXFEJ"
      }
    },
    {
      "cell_type": "code",
      "source": [
        "import math\n",
        "radius = eval(input(\"請輸入圓的半徑：\")) #把輸入的字串變成數學計算型態\n",
        "print(\"圓的面積為：\", radius * radius * math.pi) #math.pi為圓周率"
      ],
      "metadata": {
        "id": "yQQFzFj_XKQo",
        "colab": {
          "base_uri": "https://localhost:8080/"
        },
        "outputId": "9777f5d8-5b20-4e01-bdd4-8a0043f53bdd"
      },
      "execution_count": null,
      "outputs": [
        {
          "output_type": "stream",
          "name": "stdout",
          "text": [
            "請輸入圓的半徑：3\n",
            "圓的面積為： 28.274333882308138\n"
          ]
        }
      ]
    },
    {
      "cell_type": "markdown",
      "source": [
        "## 面積計算函式"
      ],
      "metadata": {
        "id": "zIGVLuKdXMow"
      }
    },
    {
      "cell_type": "code",
      "source": [
        "import math\n",
        "def circle_area(radius): #建立函式\n",
        "    area = radius * radius * math.pi\n",
        "    return area\n",
        "\n",
        "print(circle_area(3)) #把輸入的拿進函式計算"
      ],
      "metadata": {
        "id": "73KClpvqXOHC",
        "colab": {
          "base_uri": "https://localhost:8080/"
        },
        "outputId": "fa0cfd8a-a79d-4420-c8e8-9191adac288f"
      },
      "execution_count": null,
      "outputs": [
        {
          "output_type": "stream",
          "name": "stdout",
          "text": [
            "28.274333882308138\n"
          ]
        }
      ]
    },
    {
      "cell_type": "markdown",
      "source": [
        "# Chap6\n",
        "os套件：用來處理文件與目錄，與檔案相關操作"
      ],
      "metadata": {
        "id": "3nb36GlrXpkM"
      }
    },
    {
      "cell_type": "code",
      "source": [
        "import os\n",
        "print(os.getcwd()) #顯示目前所在的工作目錄"
      ],
      "metadata": {
        "id": "ibSfOTMRXrNA",
        "colab": {
          "base_uri": "https://localhost:8080/"
        },
        "outputId": "235b7e24-d0b9-4dc8-a1ef-396aefb0fa8a"
      },
      "execution_count": 19,
      "outputs": [
        {
          "output_type": "stream",
          "name": "stdout",
          "text": [
            "/content\n"
          ]
        }
      ]
    },
    {
      "cell_type": "code",
      "source": [
        "#顯示目錄下的檔案\n",
        "os.listdir(\".\")"
      ],
      "metadata": {
        "id": "yNTtTKprXsaZ",
        "colab": {
          "base_uri": "https://localhost:8080/"
        },
        "outputId": "1f478455-ec6e-4bd7-d2d2-b5d574c59280"
      },
      "execution_count": 16,
      "outputs": [
        {
          "output_type": "execute_result",
          "data": {
            "text/plain": [
              "['.config', 'sample_data']"
            ]
          },
          "metadata": {},
          "execution_count": 16
        }
      ]
    },
    {
      "cell_type": "code",
      "source": [
        "#新增目錄\n",
        "os.makedirs(\"test\")\n",
        "os.listdir(\".\")"
      ],
      "metadata": {
        "id": "VWaG7aeoXt4Q",
        "colab": {
          "base_uri": "https://localhost:8080/"
        },
        "outputId": "d4c176b9-3246-480a-8c98-f4d8afdfe266"
      },
      "execution_count": 21,
      "outputs": [
        {
          "output_type": "execute_result",
          "data": {
            "text/plain": [
              "['.config', 'test', 'sample_data']"
            ]
          },
          "metadata": {},
          "execution_count": 21
        }
      ]
    },
    {
      "cell_type": "code",
      "source": [
        "#移除目錄\n",
        "os.rmdir(\"test\")\n",
        "os.listdir(\".\")"
      ],
      "metadata": {
        "id": "VJMwuF_OXvUB",
        "colab": {
          "base_uri": "https://localhost:8080/"
        },
        "outputId": "a7b703f0-bca9-44e3-d4a4-9c812e8055a1"
      },
      "execution_count": 22,
      "outputs": [
        {
          "output_type": "execute_result",
          "data": {
            "text/plain": [
              "['.config', 'sample_data']"
            ]
          },
          "metadata": {},
          "execution_count": 22
        }
      ]
    },
    {
      "cell_type": "markdown",
      "source": [
        "## 檔案處理\n",
        "os套件有自己的檔案處理命令，而比較常用的是python內建的open\n",
        "* w = 可寫(預設建立檔案) 若檔案存在則會清除舊檔案\n",
        "* w+ = 可寫可讀(預設建立檔案) 若檔案存在則會清除舊檔案\n",
        "* r = 可讀\n",
        "* r+ = 可寫可讀 但寫入資料指向開頭\n",
        "* a = 可寫不能讀 寫入資料指向尾端\n",
        "* a+ = 可寫可讀 寫入資料指向尾端\n",
        "* b = 轉為2進位文件\n",
        "* ab+ = 2進位文件的讀寫 寫入資料指向尾端"
      ],
      "metadata": {
        "id": "njo7_MJAXw3J"
      }
    },
    {
      "cell_type": "markdown",
      "source": [
        "## 新增檔案"
      ],
      "metadata": {
        "id": "jCe-s0hfXy8p"
      }
    },
    {
      "cell_type": "code",
      "source": [
        "a=open(\"a.txt\",\"w\") #新增檔案\n",
        "a.write(\"This is a test1\")\n",
        "a.write(\"This is a test2\\n\")\n",
        "a.write(\"This is a test3\\n\")\n",
        "a.close() #關閉檔案"
      ],
      "metadata": {
        "id": "aqeK7klvX0dK"
      },
      "execution_count": 68,
      "outputs": []
    },
    {
      "cell_type": "markdown",
      "source": [
        "## 檢查檔案是否存在"
      ],
      "metadata": {
        "id": "4JLNag1XX1y2"
      }
    },
    {
      "cell_type": "code",
      "source": [
        "os.path.isfile(\"a.txt\") #存在就顯示True 不存在就顯示False"
      ],
      "metadata": {
        "id": "JBRvI68QX24D",
        "colab": {
          "base_uri": "https://localhost:8080/"
        },
        "outputId": "6f51558c-37b8-475d-f1c7-f6ccdae1d660"
      },
      "execution_count": 53,
      "outputs": [
        {
          "output_type": "execute_result",
          "data": {
            "text/plain": [
              "True"
            ]
          },
          "metadata": {},
          "execution_count": 53
        }
      ]
    },
    {
      "cell_type": "markdown",
      "source": [
        "## 讀取檔案"
      ],
      "metadata": {
        "id": "6pkspBPOX4pd"
      }
    },
    {
      "cell_type": "code",
      "source": [
        "a=open(\"a.txt\",\"r\") #讀檔\n",
        "print(a.readline()) #讀取內容，讀到空白就換行\n",
        "print(a.readline())\n",
        "print(a.readline()) #多餘的命令，檔案只有2行\n",
        "a.close() #關閉檔案"
      ],
      "metadata": {
        "id": "sTm-lzqkX67z",
        "colab": {
          "base_uri": "https://localhost:8080/"
        },
        "outputId": "315277c8-ded8-4a59-8886-28fcc4e48a28"
      },
      "execution_count": 54,
      "outputs": [
        {
          "output_type": "stream",
          "name": "stdout",
          "text": [
            "This is a test1This is a test2\n",
            "\n",
            "This is a test3\n",
            "\n",
            "\n"
          ]
        }
      ]
    },
    {
      "cell_type": "code",
      "source": [
        "a=open(\"a.txt\",\"r\") #讀檔\n",
        "print(a.readlines())  #一次讀取多行，與a.read()命令相同\n",
        "a.close() #關閉檔案"
      ],
      "metadata": {
        "id": "3CMbXz9XX8GS",
        "colab": {
          "base_uri": "https://localhost:8080/"
        },
        "outputId": "d060ba5a-3826-44a6-e0b7-6d2749313bba"
      },
      "execution_count": 55,
      "outputs": [
        {
          "output_type": "stream",
          "name": "stdout",
          "text": [
            "['This is a test1This is a test2\\n', 'This is a test3\\n']\n"
          ]
        }
      ]
    },
    {
      "cell_type": "code",
      "source": [
        "#加上檔案是否存在的判斷\n",
        "if os.path.isfile(\"a.txt\"): #判定檔案在不在\n",
        "    a=open(\"a.txt\",\"r\") #讀檔\n",
        "    print(a.readlines()) #一次讀取多行\n",
        "    a.close() #關閉檔案\n",
        "else:\n",
        "    print(\"檔案不存在\")"
      ],
      "metadata": {
        "id": "N6S7tylcX9NT",
        "colab": {
          "base_uri": "https://localhost:8080/"
        },
        "outputId": "897773dd-f158-4dc8-8b60-92ae1cdd2d70"
      },
      "execution_count": 56,
      "outputs": [
        {
          "output_type": "stream",
          "name": "stdout",
          "text": [
            "['This is a test1This is a test2\\n', 'This is a test3\\n']\n"
          ]
        }
      ]
    },
    {
      "cell_type": "markdown",
      "source": [
        "## split函式"
      ],
      "metadata": {
        "id": "fDddIqV5X-gO"
      }
    },
    {
      "cell_type": "code",
      "source": [
        "if os.path.isfile(\"a.txt\"): #判定檔案在不在\n",
        "    a=open(\"a.txt\",\"r\") #讀檔\n",
        "    for line in a:\n",
        "        fields=line.split(\" \") #以空白為切割欄位\n",
        "        print(fields)\n",
        "    a.close() #關閉檔案\n",
        "else:\n",
        "    print(\"檔案不存在\")\n",
        "        "
      ],
      "metadata": {
        "id": "l2NH6eNYX_wZ",
        "colab": {
          "base_uri": "https://localhost:8080/"
        },
        "outputId": "77086917-3725-4559-e356-8ab7e0045eb2"
      },
      "execution_count": 57,
      "outputs": [
        {
          "output_type": "stream",
          "name": "stdout",
          "text": [
            "['This', 'is', 'a', 'test1This', 'is', 'a', 'test2\\n']\n",
            "['This', 'is', 'a', 'test3\\n']\n"
          ]
        }
      ]
    },
    {
      "cell_type": "markdown",
      "source": [
        "## 附加檔案"
      ],
      "metadata": {
        "id": "823iNb0aYBM6"
      }
    },
    {
      "cell_type": "code",
      "source": [
        "a=open(\"a.txt\", \"a\") #寫入資料到檔案尾部\n",
        "a.write(\"This is test4\\n\")\n",
        "a.close()"
      ],
      "metadata": {
        "id": "upxB1jzYYCh7"
      },
      "execution_count": 58,
      "outputs": []
    },
    {
      "cell_type": "code",
      "source": [
        "a=open(\"a.txt\",\"r\") #讀檔\n",
        "print(a.readlines())\n",
        "a.close()"
      ],
      "metadata": {
        "id": "Ry6HQwngYDeP",
        "colab": {
          "base_uri": "https://localhost:8080/"
        },
        "outputId": "ee872c8f-ef5c-486a-d27a-3fec5f9d185a"
      },
      "execution_count": 60,
      "outputs": [
        {
          "output_type": "stream",
          "name": "stdout",
          "text": [
            "['This is a test1This is a test2\\n', 'This is a test3\\n', 'This is test4\\n']\n"
          ]
        }
      ]
    },
    {
      "cell_type": "markdown",
      "source": [
        "## 比較a與r+的不同\n",
        "* a寫在檔案的結尾\n",
        "* r+寫在檔案的開頭"
      ],
      "metadata": {
        "id": "XInx71RlYFGX"
      }
    },
    {
      "cell_type": "code",
      "source": [
        "a=open(\"a.txt\",\"r+\") #寫入資料到檔案開頭\n",
        "a.write(\"This is a test5\\n\")\n",
        "a.close()"
      ],
      "metadata": {
        "id": "UlFWO2SzYGVU"
      },
      "execution_count": 69,
      "outputs": []
    },
    {
      "cell_type": "code",
      "source": [
        "a=open(\"a.txt\",\"r\") #讀檔\n",
        "print(a.readlines())\n",
        "a.close()"
      ],
      "metadata": {
        "id": "WdbHLOaqYIHl",
        "colab": {
          "base_uri": "https://localhost:8080/"
        },
        "outputId": "bf5396f4-cceb-46a0-e8df-f47c56d46a5f"
      },
      "execution_count": 70,
      "outputs": [
        {
          "output_type": "stream",
          "name": "stdout",
          "text": [
            "['This is a test5\\n', 'his is a test2\\n', 'This is a test3\\n']\n"
          ]
        }
      ]
    },
    {
      "cell_type": "markdown",
      "source": [
        "## 刪除檔案"
      ],
      "metadata": {
        "id": "RgUScN0jYJQZ"
      }
    },
    {
      "cell_type": "code",
      "source": [
        "if os.path.isfile(\"a.txt\"): #判定檔案在不在\n",
        "    os.remove(\"a.txt\") #刪除檔案\n",
        "    print(\"檔案刪除成功\")\n",
        "else:\n",
        "    print(\"找不到檔案\")\n",
        "print(os.path.isfile(\"a.txt\")) #判定檔案在不在"
      ],
      "metadata": {
        "id": "KShswFX8YKZV",
        "colab": {
          "base_uri": "https://localhost:8080/"
        },
        "outputId": "fccacc59-27d0-45da-93e7-fc3ce4ec526e"
      },
      "execution_count": 71,
      "outputs": [
        {
          "output_type": "stream",
          "name": "stdout",
          "text": [
            "檔案刪除成功\n",
            "False\n"
          ]
        }
      ]
    },
    {
      "cell_type": "markdown",
      "source": [
        "# Chap7 錯誤處理\n",
        "try:  \n",
        "except:  \n",
        "else:  \n",
        "finally:  "
      ],
      "metadata": {
        "id": "kyA_jrbYYUac"
      }
    },
    {
      "cell_type": "code",
      "source": [
        "a=10\n",
        "b=20\n",
        "if a<b:\n",
        "    print(n) #發生錯誤"
      ],
      "metadata": {
        "id": "twOryIHDYVsy"
      },
      "execution_count": null,
      "outputs": []
    },
    {
      "cell_type": "code",
      "source": [
        "a=10\n",
        "b=20\n",
        "try: #先執行\n",
        "    if a<b:\n",
        "        print(n) #發生錯誤\n",
        "except: #發生錯誤時執行 沒發生錯誤不執行\n",
        "    print(\"錯誤產生\")"
      ],
      "metadata": {
        "id": "GXZZXHPFYYQn",
        "colab": {
          "base_uri": "https://localhost:8080/"
        },
        "outputId": "3de3fbf0-602c-4078-fbc4-4b76f3d097bc"
      },
      "execution_count": 73,
      "outputs": [
        {
          "output_type": "stream",
          "name": "stdout",
          "text": [
            "錯誤產生\n"
          ]
        }
      ]
    },
    {
      "cell_type": "markdown",
      "source": [
        "## 指定錯誤類別處理"
      ],
      "metadata": {
        "id": "h-bTmE0JYZwS"
      }
    },
    {
      "cell_type": "code",
      "source": [
        "a=10\n",
        "b=20\n",
        "try: #先執行\n",
        "    if a<b:\n",
        "        print(n)\n",
        "except NameError as e: #檢查錯誤是不是找不到指定名稱\n",
        "    print(\"錯誤產生, 錯誤原因：\",e)\n",
        "except ZeroDivisionError: #檢查錯誤原因是不是除以0導致的\n",
        "    print(\"除以0錯誤\")"
      ],
      "metadata": {
        "id": "s8aoxvpbYa97",
        "colab": {
          "base_uri": "https://localhost:8080/"
        },
        "outputId": "d92e4e69-41ca-402c-be4f-991230a20e28"
      },
      "execution_count": 81,
      "outputs": [
        {
          "output_type": "stream",
          "name": "stdout",
          "text": [
            "錯誤產生, 錯誤原因： name 'n' is not defined\n"
          ]
        }
      ]
    },
    {
      "cell_type": "markdown",
      "source": [
        "## else\n",
        "沒有錯誤產生會執行的部分"
      ],
      "metadata": {
        "id": "hhYVgE1bYcX9"
      }
    },
    {
      "cell_type": "code",
      "source": [
        "a=10\n",
        "b=20\n",
        "try: #先執行\n",
        "    if a>b: #改變比較條件，讓錯誤不發生\n",
        "        print(n)\n",
        "except: #錯誤發生時執行\n",
        "    print(\"錯誤發生\")\n",
        "else: #當沒有指定的錯誤條件被發現時執行\n",
        "    print(\"沒有錯誤發生時會執行的部分\")"
      ],
      "metadata": {
        "id": "Eg2dT3XYYdhC",
        "colab": {
          "base_uri": "https://localhost:8080/"
        },
        "outputId": "461e8c86-761f-462f-c444-ed27baff7cda"
      },
      "execution_count": 79,
      "outputs": [
        {
          "output_type": "stream",
          "name": "stdout",
          "text": [
            "沒有錯誤發生時會執行的部分\n"
          ]
        }
      ]
    },
    {
      "cell_type": "code",
      "source": [
        "a=10\n",
        "b=20\n",
        "try:\n",
        "    if a>b: #改變比較條件，讓錯誤不發生\n",
        "        print(n)\n",
        "except: #錯誤發生時執行\n",
        "    print(\"錯誤發生\")\n",
        "else: #當沒有指定的錯誤條件被發現時執行\n",
        "    print(\"沒有錯誤發生時會執行的部分\")\n",
        "finally: #必定執行的程式\n",
        "    print(\"不管有沒有錯誤一定會執行的部分\")"
      ],
      "metadata": {
        "id": "z3FJF0q8YfJU",
        "colab": {
          "base_uri": "https://localhost:8080/"
        },
        "outputId": "5ea1bb4b-7293-4c43-d875-729521c27e53"
      },
      "execution_count": 83,
      "outputs": [
        {
          "output_type": "stream",
          "name": "stdout",
          "text": [
            "沒有錯誤發生時會執行的部分\n",
            "不管有沒有錯誤一定會執行的部分\n"
          ]
        }
      ]
    }
  ],
  "metadata": {
    "kernelspec": {
      "display_name": "Python 3",
      "language": "python",
      "name": "python3"
    },
    "language_info": {
      "codemirror_mode": {
        "name": "ipython",
        "version": 3
      },
      "file_extension": ".py",
      "mimetype": "text/x-python",
      "name": "python",
      "nbconvert_exporter": "python",
      "pygments_lexer": "ipython3",
      "version": "3.8.5"
    },
    "colab": {
      "name": "期末作業",
      "provenance": [],
      "collapsed_sections": [],
      "include_colab_link": true
    }
  },
  "nbformat": 4,
  "nbformat_minor": 0
}